{
 "cells": [
  {
   "cell_type": "markdown",
   "metadata": {},
   "source": [
    "# What types of vehicles are on NYC roadways?\n",
    "\n",
    "\n",
    "## Introduction\n",
    "\n",
    "Before constructing a measure for NYC vehicle activity, we would like to consider the different classes (auto, bus, taxi, trucks, etc.) of vehicles on NYC's roads. Knowing the breakdown of vehicular traffic by class would allow one to weight the importance of a data sources related to a single vehicle class. For example bus data would not be a great measure of vehicle activity in NYC if it represents a small percentage of traffic. \n",
    "\n",
    "Fortunately, the NYC Department of Transporation (DOT) conducted a series of vehicle classification counts for New York Metropolitan Transportation Council (NYMTC) at various locations throughout NYC to determine the breakdown of traffic by vehicle class. "
   ]
  },
  {
   "cell_type": "markdown",
   "metadata": {},
   "source": [
    "### Loading modules"
   ]
  },
  {
   "cell_type": "code",
   "execution_count": 45,
   "metadata": {},
   "outputs": [],
   "source": [
    "import pandas as pd\n",
    "import scipy.stats\n",
    "import matplotlib.pyplot as plt"
   ]
  },
  {
   "cell_type": "markdown",
   "metadata": {},
   "source": [
    "### Settings"
   ]
  },
  {
   "cell_type": "code",
   "execution_count": 46,
   "metadata": {},
   "outputs": [],
   "source": [
    "pd.options.display.min_rows =30\n",
    "pd.options.display.max_rows =40\n",
    "pd.options.display.width = 120"
   ]
  },
  {
   "cell_type": "markdown",
   "metadata": {},
   "source": [
    "### Helper Functions"
   ]
  },
  {
   "cell_type": "code",
   "execution_count": 47,
   "metadata": {},
   "outputs": [],
   "source": [
    "def distribution_stats(series):\n",
    "    \"\"\"Return pd.Series of distribution stats for input series\"\"\"\n",
    "    stats = {\n",
    "        \"count\": series.count(),\n",
    "        \"min\": series.min(),\n",
    "        \"1%\": series.quantile(0.01),\n",
    "        \"5%\": series.quantile(0.05),\n",
    "        \"25%\": series.quantile(0.25),\n",
    "        \"50%\": series.quantile(0.50),\n",
    "        \"75%\": series.quantile(0.75),\n",
    "        \"95%\": series.quantile(0.95),\n",
    "        \"99%\": series.quantile(0.99),\n",
    "        \"max\": series.max(),\n",
    "        \"median\": series.median(),\n",
    "        \"mean\": series.mean(),\n",
    "        \"median absolute deviation \": scipy.stats.median_absolute_deviation(series),\n",
    "        \"standard deviation\": series.std(),\n",
    "        \"skew\": series.skew(),\n",
    "        \"kurtosis\": series.kurtosis(),\n",
    "    }\n",
    "    stats = pd.DataFrame.from_dict(stats, orient=\"index\", columns=[\"Stat Value\"])\n",
    "    return stats\n",
    "\n",
    "\n",
    "def frequency_table(series):\n",
    "    \"\"\"Return pd.Series frequency table for input series\"\"\"\n",
    "    freq = series.value_counts()\n",
    "    freq.name = \"Count\"\n",
    "    percent = series.value_counts(normalize=True) * 100\n",
    "    percent = pd.Series([\"{0:.2f}%\".format(x) for x in percent], index=percent.index)\n",
    "    percent.name = \"% of total\"\n",
    "    output = pd.concat([freq, percent], axis=1)\n",
    "    output.index = [abbreviate_string(x, limit=60) for x in output.index]\n",
    "    return output\n",
    "\n",
    "\n",
    "def abbreviate_string(s, limit=60):\n",
    "    if isinstance(s, str):\n",
    "        return s[:limit]\n",
    "    else:\n",
    "        return s\n",
    "\n"
   ]
  },
  {
   "cell_type": "markdown",
   "metadata": {},
   "source": [
    "### Loading data\n",
    "\n",
    "Recent vehicle classification data can be found at:\n",
    "- https://data.cityofnewyork.us/Transportation/Vehicle-Classification-Counts-2014-2018-/96ay-ea4r\n",
    "\n",
    "or directly downloaded with an API key from:\n",
    "- https://data.cityofnewyork.us/resource/96ay-ea4r.csv\n",
    "\n",
    "Pandas will be used to load the data from csv to a Pandas DataFrame (DF)"
   ]
  },
  {
   "cell_type": "code",
   "execution_count": 48,
   "metadata": {
    "scrolled": true
   },
   "outputs": [],
   "source": [
    "vehicle_class = pd.read_csv(\"data/vehicle/vehicle classification/Vehicle_Classification_Counts__2014-2018_.csv\")"
   ]
  },
  {
   "cell_type": "markdown",
   "metadata": {},
   "source": [
    "### Exploring Data\n",
    "\n",
    "**Inspecting data dimensions and data type**"
   ]
  },
  {
   "cell_type": "code",
   "execution_count": 49,
   "metadata": {},
   "outputs": [
    {
     "data": {
      "text/plain": [
       "(8771, 32)"
      ]
     },
     "execution_count": 49,
     "metadata": {},
     "output_type": "execute_result"
    }
   ],
   "source": [
    "vehicle_class.shape"
   ]
  },
  {
   "cell_type": "code",
   "execution_count": 50,
   "metadata": {
    "scrolled": true
   },
   "outputs": [
    {
     "data": {
      "text/plain": [
       "ID                  int64\n",
       "SegmentID           int64\n",
       "Roadway Name       object\n",
       "From               object\n",
       "To                 object\n",
       "Direction          object\n",
       "Date               object\n",
       "Veh Class Type     object\n",
       "12:00-1:00 AM     float64\n",
       "1:00-2:00AM       float64\n",
       "2:00-3:00AM       float64\n",
       "3:00-4:00AM       float64\n",
       "4:00-5:00AM       float64\n",
       "5:00-6:00AM       float64\n",
       "6:00-7:00AM       float64\n",
       "7:00-8:00AM       float64\n",
       "8:00-9:00AM       float64\n",
       "9:00-10:00AM      float64\n",
       "10:00-11:00AM     float64\n",
       "11:00-12:00PM     float64\n",
       "12:00-1:00PM      float64\n",
       "1:00-2:00PM       float64\n",
       "2:00-3:00PM       float64\n",
       "3:00-4:00PM       float64\n",
       "4:00-5:00PM       float64\n",
       "5:00-6:00PM       float64\n",
       "6:00-7:00PM       float64\n",
       "7:00-8:00PM       float64\n",
       "8:00-9:00PM       float64\n",
       "9:00-10:00PM      float64\n",
       "10:00-11:00PM     float64\n",
       "11:00-12:00AM     float64\n",
       "dtype: object"
      ]
     },
     "execution_count": 50,
     "metadata": {},
     "output_type": "execute_result"
    }
   ],
   "source": [
    "vehicle_class.dtypes"
   ]
  },
  {
   "cell_type": "markdown",
   "metadata": {},
   "source": [
    "**Checking DF for duplicates**\n"
   ]
  },
  {
   "cell_type": "code",
   "execution_count": 51,
   "metadata": {
    "scrolled": true
   },
   "outputs": [
    {
     "data": {
      "text/plain": [
       "0"
      ]
     },
     "execution_count": 51,
     "metadata": {},
     "output_type": "execute_result"
    }
   ],
   "source": [
    "vehicle_class.duplicated(keep=False).sum()"
   ]
  },
  {
   "cell_type": "markdown",
   "metadata": {},
   "source": [
    "**Checking for null values**\n",
    "\n",
    "There seems to be a relatively consistent number of null values for the distinct time slots. "
   ]
  },
  {
   "cell_type": "code",
   "execution_count": 52,
   "metadata": {
    "scrolled": false
   },
   "outputs": [
    {
     "data": {
      "text/plain": [
       "ID                   0\n",
       "SegmentID            0\n",
       "Roadway Name         0\n",
       "From                 0\n",
       "To                   0\n",
       "Direction            0\n",
       "Date                 0\n",
       "Veh Class Type       0\n",
       "12:00-1:00 AM     3276\n",
       "1:00-2:00AM       3276\n",
       "2:00-3:00AM       3276\n",
       "3:00-4:00AM       3276\n",
       "4:00-5:00AM       3276\n",
       "5:00-6:00AM       3276\n",
       "6:00-7:00AM       3276\n",
       "7:00-8:00AM       3276\n",
       "8:00-9:00AM       3276\n",
       "9:00-10:00AM      3325\n",
       "10:00-11:00AM     3276\n",
       "11:00-12:00PM     3276\n",
       "12:00-1:00PM      3290\n",
       "1:00-2:00PM       3276\n",
       "2:00-3:00PM       3276\n",
       "3:00-4:00PM       3276\n",
       "4:00-5:00PM       3276\n",
       "5:00-6:00PM       3276\n",
       "6:00-7:00PM       3276\n",
       "7:00-8:00PM       3276\n",
       "8:00-9:00PM       3304\n",
       "9:00-10:00PM      3276\n",
       "10:00-11:00PM     3276\n",
       "11:00-12:00AM     3276\n",
       "dtype: int64"
      ]
     },
     "execution_count": 52,
     "metadata": {},
     "output_type": "execute_result"
    }
   ],
   "source": [
    "vehicle_class.isna().sum()"
   ]
  },
  {
   "cell_type": "markdown",
   "metadata": {},
   "source": [
    "Examining a sample set of observations, we can see that per-column nulls in one row are matched by values in the other row. Since the 24 hours of observation were split up over two days, the data appears in two rows. Hours with no observations were not recored as 0, resulting in a \"NaN\" when pandas parsed the csv file. "
   ]
  },
  {
   "cell_type": "code",
   "execution_count": 53,
   "metadata": {
    "scrolled": false
   },
   "outputs": [
    {
     "data": {
      "text/html": [
       "<div>\n",
       "<style scoped>\n",
       "    .dataframe tbody tr th:only-of-type {\n",
       "        vertical-align: middle;\n",
       "    }\n",
       "\n",
       "    .dataframe tbody tr th {\n",
       "        vertical-align: top;\n",
       "    }\n",
       "\n",
       "    .dataframe thead th {\n",
       "        text-align: right;\n",
       "    }\n",
       "</style>\n",
       "<table border=\"1\" class=\"dataframe\">\n",
       "  <thead>\n",
       "    <tr style=\"text-align: right;\">\n",
       "      <th></th>\n",
       "      <th>ID</th>\n",
       "      <th>SegmentID</th>\n",
       "      <th>Roadway Name</th>\n",
       "      <th>From</th>\n",
       "      <th>To</th>\n",
       "      <th>Direction</th>\n",
       "      <th>Date</th>\n",
       "      <th>Veh Class Type</th>\n",
       "      <th>12:00-1:00 AM</th>\n",
       "      <th>1:00-2:00AM</th>\n",
       "      <th>...</th>\n",
       "      <th>2:00-3:00PM</th>\n",
       "      <th>3:00-4:00PM</th>\n",
       "      <th>4:00-5:00PM</th>\n",
       "      <th>5:00-6:00PM</th>\n",
       "      <th>6:00-7:00PM</th>\n",
       "      <th>7:00-8:00PM</th>\n",
       "      <th>8:00-9:00PM</th>\n",
       "      <th>9:00-10:00PM</th>\n",
       "      <th>10:00-11:00PM</th>\n",
       "      <th>11:00-12:00AM</th>\n",
       "    </tr>\n",
       "  </thead>\n",
       "  <tbody>\n",
       "    <tr>\n",
       "      <th>14</th>\n",
       "      <td>1</td>\n",
       "      <td>152030</td>\n",
       "      <td>34 Avenue</td>\n",
       "      <td>113 Street</td>\n",
       "      <td>114 Street</td>\n",
       "      <td>EB</td>\n",
       "      <td>10/29/2014</td>\n",
       "      <td>Auto</td>\n",
       "      <td>NaN</td>\n",
       "      <td>NaN</td>\n",
       "      <td>...</td>\n",
       "      <td>NaN</td>\n",
       "      <td>NaN</td>\n",
       "      <td>NaN</td>\n",
       "      <td>NaN</td>\n",
       "      <td>NaN</td>\n",
       "      <td>NaN</td>\n",
       "      <td>273.0</td>\n",
       "      <td>202.0</td>\n",
       "      <td>156.0</td>\n",
       "      <td>133.0</td>\n",
       "    </tr>\n",
       "    <tr>\n",
       "      <th>21</th>\n",
       "      <td>1</td>\n",
       "      <td>152030</td>\n",
       "      <td>34 Avenue</td>\n",
       "      <td>113 Street</td>\n",
       "      <td>114 Street</td>\n",
       "      <td>EB</td>\n",
       "      <td>10/30/2014</td>\n",
       "      <td>Auto</td>\n",
       "      <td>69.0</td>\n",
       "      <td>38.0</td>\n",
       "      <td>...</td>\n",
       "      <td>482.0</td>\n",
       "      <td>355.0</td>\n",
       "      <td>330.0</td>\n",
       "      <td>432.0</td>\n",
       "      <td>444.0</td>\n",
       "      <td>361.0</td>\n",
       "      <td>NaN</td>\n",
       "      <td>NaN</td>\n",
       "      <td>NaN</td>\n",
       "      <td>NaN</td>\n",
       "    </tr>\n",
       "  </tbody>\n",
       "</table>\n",
       "<p>2 rows × 32 columns</p>\n",
       "</div>"
      ],
      "text/plain": [
       "    ID  SegmentID Roadway Name        From          To Direction        Date Veh Class Type  12:00-1:00 AM  \\\n",
       "14   1     152030    34 Avenue  113 Street  114 Street        EB  10/29/2014           Auto            NaN   \n",
       "21   1     152030    34 Avenue  113 Street  114 Street        EB  10/30/2014           Auto           69.0   \n",
       "\n",
       "    1:00-2:00AM  ...  2:00-3:00PM  3:00-4:00PM  4:00-5:00PM  5:00-6:00PM  6:00-7:00PM  7:00-8:00PM  8:00-9:00PM  \\\n",
       "14          NaN  ...          NaN          NaN          NaN          NaN          NaN          NaN        273.0   \n",
       "21         38.0  ...        482.0        355.0        330.0        432.0        444.0        361.0          NaN   \n",
       "\n",
       "    9:00-10:00PM  10:00-11:00PM  11:00-12:00AM  \n",
       "14         202.0          156.0          133.0  \n",
       "21           NaN            NaN            NaN  \n",
       "\n",
       "[2 rows x 32 columns]"
      ]
     },
     "execution_count": 53,
     "metadata": {},
     "output_type": "execute_result"
    }
   ],
   "source": [
    "vehicle_class[\n",
    "    (vehicle_class[\"Roadway Name\"] == \"34 Avenue\")\n",
    "    & (vehicle_class[\"From\"] == \"113 Street\")\n",
    "    & (vehicle_class[\"Veh Class Type\"] == \"Auto\")\n",
    "    & (vehicle_class[\"Direction\"] == \"EB\")\n",
    "]"
   ]
  },
  {
   "cell_type": "markdown",
   "metadata": {},
   "source": [
    "**Checking to see if data is representative of NYC**\n",
    "\n",
    "Unfortunately Borough (county) and road type were not included to verify that the data is a reasonable representation of vehicle types on NYC roads. We can use 'Roadway Name\" and the \"From' and \"To\" crossstreets with knowledge of NYC to verify that the data is at least a reasonable sample. All five boroughs on NYC are represented in the traffic studies. Furthermore the traffic studies contain samples from different types of roadways such as highways, major bridges, and smaller local roads."
   ]
  },
  {
   "cell_type": "code",
   "execution_count": 54,
   "metadata": {
    "scrolled": true
   },
   "outputs": [
    {
     "data": {
      "text/html": [
       "<div>\n",
       "<style scoped>\n",
       "    .dataframe tbody tr th:only-of-type {\n",
       "        vertical-align: middle;\n",
       "    }\n",
       "\n",
       "    .dataframe tbody tr th {\n",
       "        vertical-align: top;\n",
       "    }\n",
       "\n",
       "    .dataframe thead th {\n",
       "        text-align: right;\n",
       "    }\n",
       "</style>\n",
       "<table border=\"1\" class=\"dataframe\">\n",
       "  <thead>\n",
       "    <tr style=\"text-align: right;\">\n",
       "      <th></th>\n",
       "      <th>Count</th>\n",
       "      <th>% of total</th>\n",
       "    </tr>\n",
       "  </thead>\n",
       "  <tbody>\n",
       "    <tr>\n",
       "      <th>WILLIAMSBURG BRIDGE FROM MANHATTAN TO BROOKLYN</th>\n",
       "      <td>56</td>\n",
       "      <td>0.64%</td>\n",
       "    </tr>\n",
       "    <tr>\n",
       "      <th>EAST 167 STREET FROM WALTON AVENUE TO GRANDVIEW PLACE</th>\n",
       "      <td>56</td>\n",
       "      <td>0.64%</td>\n",
       "    </tr>\n",
       "    <tr>\n",
       "      <th>1st Avenue FROM 47 Street TO 48 Street</th>\n",
       "      <td>56</td>\n",
       "      <td>0.64%</td>\n",
       "    </tr>\n",
       "    <tr>\n",
       "      <th>EAST 167 STREET FROM SHERMAN AVENUE TO SHERIDAN AVENUE</th>\n",
       "      <td>56</td>\n",
       "      <td>0.64%</td>\n",
       "    </tr>\n",
       "    <tr>\n",
       "      <th>FDR Drive FROM 28 Street TO 29 Street</th>\n",
       "      <td>42</td>\n",
       "      <td>0.48%</td>\n",
       "    </tr>\n",
       "    <tr>\n",
       "      <th>13 AVENUE FROM 72 STREET TO 73 STREET</th>\n",
       "      <td>28</td>\n",
       "      <td>0.32%</td>\n",
       "    </tr>\n",
       "    <tr>\n",
       "      <th>Belt Parkway FROM Erskine Street TO Pennsylvania Avenue</th>\n",
       "      <td>28</td>\n",
       "      <td>0.32%</td>\n",
       "    </tr>\n",
       "    <tr>\n",
       "      <th>East 233 Street FROM Webster Avenue TO Bronx River Parkway</th>\n",
       "      <td>28</td>\n",
       "      <td>0.32%</td>\n",
       "    </tr>\n",
       "    <tr>\n",
       "      <th>48 Street FROM Northern Boulevard TO 37 Avenue</th>\n",
       "      <td>28</td>\n",
       "      <td>0.32%</td>\n",
       "    </tr>\n",
       "    <tr>\n",
       "      <th>Sanford Avenue FROM 147 Street TO 149 Street</th>\n",
       "      <td>28</td>\n",
       "      <td>0.32%</td>\n",
       "    </tr>\n",
       "    <tr>\n",
       "      <th>Henry Hudson Parkway FROM 73 Street TO 74 Street</th>\n",
       "      <td>28</td>\n",
       "      <td>0.32%</td>\n",
       "    </tr>\n",
       "    <tr>\n",
       "      <th>Cypress Avenue FROM Troutman Street TO Starr Street</th>\n",
       "      <td>28</td>\n",
       "      <td>0.32%</td>\n",
       "    </tr>\n",
       "    <tr>\n",
       "      <th>Webster Avenue FROM 216 Street TO 213 Street</th>\n",
       "      <td>28</td>\n",
       "      <td>0.32%</td>\n",
       "    </tr>\n",
       "    <tr>\n",
       "      <th>Woodhaven Boulevard FROM Eliot Avenue TO Eliot Avenue</th>\n",
       "      <td>28</td>\n",
       "      <td>0.32%</td>\n",
       "    </tr>\n",
       "    <tr>\n",
       "      <th>Albany Avenue FROM Lenox Road TO Linden Boulevard</th>\n",
       "      <td>28</td>\n",
       "      <td>0.32%</td>\n",
       "    </tr>\n",
       "    <tr>\n",
       "      <th>...</th>\n",
       "      <td>...</td>\n",
       "      <td>...</td>\n",
       "    </tr>\n",
       "    <tr>\n",
       "      <th>THROOP AVENUE FROM WHIPPLE STREET TO BARTLETT STREET</th>\n",
       "      <td>7</td>\n",
       "      <td>0.08%</td>\n",
       "    </tr>\n",
       "    <tr>\n",
       "      <th>GREENE AVENUE FROM IRVING AVENUE TO KNICKERBOCKER AVENUE</th>\n",
       "      <td>7</td>\n",
       "      <td>0.08%</td>\n",
       "    </tr>\n",
       "    <tr>\n",
       "      <th>AVENUE N FROM 15 STREET TO EAST 16 STREET</th>\n",
       "      <td>7</td>\n",
       "      <td>0.08%</td>\n",
       "    </tr>\n",
       "    <tr>\n",
       "      <th>3 AVENUE FROM EAST 46 STREET TO EAST 47 STREET</th>\n",
       "      <td>7</td>\n",
       "      <td>0.08%</td>\n",
       "    </tr>\n",
       "    <tr>\n",
       "      <th>Kosciuszko BRIDGE FROM Gardner Avenue TO Thomas Street</th>\n",
       "      <td>7</td>\n",
       "      <td>0.08%</td>\n",
       "    </tr>\n",
       "    <tr>\n",
       "      <th>11 AVENUE FROM WEST 28 STREET TO WEST 29 STREET</th>\n",
       "      <td>7</td>\n",
       "      <td>0.08%</td>\n",
       "    </tr>\n",
       "    <tr>\n",
       "      <th>2 Avenue FROM East 73 Street TO East 74 Street</th>\n",
       "      <td>7</td>\n",
       "      <td>0.08%</td>\n",
       "    </tr>\n",
       "    <tr>\n",
       "      <th>BAY COURT FROM SHORE PARKWAY TO EAST 16 STREET</th>\n",
       "      <td>7</td>\n",
       "      <td>0.08%</td>\n",
       "    </tr>\n",
       "    <tr>\n",
       "      <th>10 AVENUE FROM WEST 46 STREET TO WEST 47 STREET</th>\n",
       "      <td>7</td>\n",
       "      <td>0.08%</td>\n",
       "    </tr>\n",
       "    <tr>\n",
       "      <th>6 Avenue FROM West 11 Street TO West 12 Street</th>\n",
       "      <td>7</td>\n",
       "      <td>0.08%</td>\n",
       "    </tr>\n",
       "    <tr>\n",
       "      <th>5 AVENUE FROM EAST 61 STREET TO EAST 62 STREET</th>\n",
       "      <td>7</td>\n",
       "      <td>0.08%</td>\n",
       "    </tr>\n",
       "    <tr>\n",
       "      <th>2 AVENUE FROM EAST 99 STREET TO EAST 100 STREET</th>\n",
       "      <td>7</td>\n",
       "      <td>0.08%</td>\n",
       "    </tr>\n",
       "    <tr>\n",
       "      <th>3 AVENUE FROM EAST 123 STREET TO EAST 124 STREET</th>\n",
       "      <td>7</td>\n",
       "      <td>0.08%</td>\n",
       "    </tr>\n",
       "    <tr>\n",
       "      <th>COLUMBUS CIRCLE SLIP LANE FROM CENTRAL PARK SOUTH TO BROADWA</th>\n",
       "      <td>6</td>\n",
       "      <td>0.07%</td>\n",
       "    </tr>\n",
       "    <tr>\n",
       "      <th>134 Street FROM st. Anns Place TO Bruckner Boulevard</th>\n",
       "      <td>1</td>\n",
       "      <td>0.01%</td>\n",
       "    </tr>\n",
       "  </tbody>\n",
       "</table>\n",
       "<p>472 rows × 2 columns</p>\n",
       "</div>"
      ],
      "text/plain": [
       "                                                    Count % of total\n",
       "WILLIAMSBURG BRIDGE FROM MANHATTAN TO BROOKLYN         56      0.64%\n",
       "EAST 167 STREET FROM WALTON AVENUE TO GRANDVIEW...     56      0.64%\n",
       "1st Avenue FROM 47 Street TO 48 Street                 56      0.64%\n",
       "EAST 167 STREET FROM SHERMAN AVENUE TO SHERIDAN...     56      0.64%\n",
       "FDR Drive FROM 28 Street TO 29 Street                  42      0.48%\n",
       "13 AVENUE FROM 72 STREET TO 73 STREET                  28      0.32%\n",
       "Belt Parkway FROM Erskine Street TO Pennsylvani...     28      0.32%\n",
       "East 233 Street FROM Webster Avenue TO Bronx Ri...     28      0.32%\n",
       "48 Street FROM Northern Boulevard TO 37 Avenue         28      0.32%\n",
       "Sanford Avenue FROM 147 Street TO 149 Street           28      0.32%\n",
       "Henry Hudson Parkway FROM 73 Street TO 74 Street       28      0.32%\n",
       "Cypress Avenue FROM Troutman Street TO Starr St...     28      0.32%\n",
       "Webster Avenue FROM 216 Street TO 213 Street           28      0.32%\n",
       "Woodhaven Boulevard FROM Eliot Avenue TO Eliot ...     28      0.32%\n",
       "Albany Avenue FROM Lenox Road TO Linden Boulevard      28      0.32%\n",
       "...                                                   ...        ...\n",
       "THROOP AVENUE FROM WHIPPLE STREET TO BARTLETT S...      7      0.08%\n",
       "GREENE AVENUE FROM IRVING AVENUE TO KNICKERBOCK...      7      0.08%\n",
       "AVENUE N FROM 15 STREET TO EAST 16 STREET               7      0.08%\n",
       "3 AVENUE FROM EAST 46 STREET TO EAST 47 STREET          7      0.08%\n",
       "Kosciuszko BRIDGE FROM Gardner Avenue TO Thomas...      7      0.08%\n",
       "11 AVENUE FROM WEST 28 STREET TO WEST 29 STREET         7      0.08%\n",
       "2 Avenue FROM East 73 Street TO East 74 Street          7      0.08%\n",
       "BAY COURT FROM SHORE PARKWAY TO EAST 16 STREET          7      0.08%\n",
       "10 AVENUE FROM WEST 46 STREET TO WEST 47 STREET         7      0.08%\n",
       "6 Avenue FROM West 11 Street TO West 12 Street          7      0.08%\n",
       "5 AVENUE FROM EAST 61 STREET TO EAST 62 STREET          7      0.08%\n",
       "2 AVENUE FROM EAST 99 STREET TO EAST 100 STREET         7      0.08%\n",
       "3 AVENUE FROM EAST 123 STREET TO EAST 124 STREET        7      0.08%\n",
       "COLUMBUS CIRCLE SLIP LANE FROM CENTRAL PARK SOU...      6      0.07%\n",
       "134 Street FROM st. Anns Place TO Bruckner Boul...      1      0.01%\n",
       "\n",
       "[472 rows x 2 columns]"
      ]
     },
     "execution_count": 54,
     "metadata": {},
     "output_type": "execute_result"
    }
   ],
   "source": [
    "vehicle_class[\"Location\"] = (\n",
    "    vehicle_class[\"Roadway Name\"]\n",
    "    + \" FROM \"\n",
    "    + vehicle_class[\"From\"]\n",
    "    + \" TO \"\n",
    "    + vehicle_class[\"To\"]\n",
    ")\n",
    "\n",
    "frequency_table(vehicle_class['Location'])"
   ]
  },
  {
   "cell_type": "markdown",
   "metadata": {},
   "source": [
    "**Number of sets of observations**\n",
    "\n",
    "A single set of observations is recorded as 7 rows, 1 row for each class of vehicle. We can see that there are a total of 1253 sets of observations and that they seem complete."
   ]
  },
  {
   "cell_type": "code",
   "execution_count": 55,
   "metadata": {
    "scrolled": true
   },
   "outputs": [
    {
     "data": {
      "text/html": [
       "<div>\n",
       "<style scoped>\n",
       "    .dataframe tbody tr th:only-of-type {\n",
       "        vertical-align: middle;\n",
       "    }\n",
       "\n",
       "    .dataframe tbody tr th {\n",
       "        vertical-align: top;\n",
       "    }\n",
       "\n",
       "    .dataframe thead th {\n",
       "        text-align: right;\n",
       "    }\n",
       "</style>\n",
       "<table border=\"1\" class=\"dataframe\">\n",
       "  <thead>\n",
       "    <tr style=\"text-align: right;\">\n",
       "      <th></th>\n",
       "      <th>Count</th>\n",
       "      <th>% of total</th>\n",
       "    </tr>\n",
       "  </thead>\n",
       "  <tbody>\n",
       "    <tr>\n",
       "      <th>Auto</th>\n",
       "      <td>1253</td>\n",
       "      <td>14.29%</td>\n",
       "    </tr>\n",
       "    <tr>\n",
       "      <th>Taxis</th>\n",
       "      <td>1253</td>\n",
       "      <td>14.29%</td>\n",
       "    </tr>\n",
       "    <tr>\n",
       "      <th>Medium Truck</th>\n",
       "      <td>1253</td>\n",
       "      <td>14.29%</td>\n",
       "    </tr>\n",
       "    <tr>\n",
       "      <th>Commercial</th>\n",
       "      <td>1253</td>\n",
       "      <td>14.29%</td>\n",
       "    </tr>\n",
       "    <tr>\n",
       "      <th>Heavy Truck</th>\n",
       "      <td>1253</td>\n",
       "      <td>14.29%</td>\n",
       "    </tr>\n",
       "    <tr>\n",
       "      <th>School Bus</th>\n",
       "      <td>1253</td>\n",
       "      <td>14.29%</td>\n",
       "    </tr>\n",
       "    <tr>\n",
       "      <th>Other Bus</th>\n",
       "      <td>1253</td>\n",
       "      <td>14.29%</td>\n",
       "    </tr>\n",
       "  </tbody>\n",
       "</table>\n",
       "</div>"
      ],
      "text/plain": [
       "              Count % of total\n",
       "Auto           1253     14.29%\n",
       "Taxis          1253     14.29%\n",
       "Medium Truck   1253     14.29%\n",
       "Commercial     1253     14.29%\n",
       "Heavy Truck    1253     14.29%\n",
       "School Bus     1253     14.29%\n",
       "Other Bus      1253     14.29%"
      ]
     },
     "execution_count": 55,
     "metadata": {},
     "output_type": "execute_result"
    }
   ],
   "source": [
    "frequency_table(vehicle_class['Veh Class Type'])"
   ]
  },
  {
   "cell_type": "markdown",
   "metadata": {},
   "source": [
    "**Date Range**\n",
    "\n",
    "We can verify that the observations occured from 2014 to 2018"
   ]
  },
  {
   "cell_type": "code",
   "execution_count": 56,
   "metadata": {},
   "outputs": [
    {
     "data": {
      "text/plain": [
       "Timestamp('2014-09-16 00:00:00')"
      ]
     },
     "execution_count": 56,
     "metadata": {},
     "output_type": "execute_result"
    }
   ],
   "source": [
    "vehicle_class['datetime'] = pd.to_datetime(vehicle_class['Date'], format=\"%m/%d/%Y\")\n",
    "vehicle_class['datetime'].min()\n"
   ]
  },
  {
   "cell_type": "code",
   "execution_count": 57,
   "metadata": {},
   "outputs": [
    {
     "data": {
      "text/plain": [
       "Timestamp('2018-03-29 00:00:00')"
      ]
     },
     "execution_count": 57,
     "metadata": {},
     "output_type": "execute_result"
    }
   ],
   "source": [
    "vehicle_class['datetime'].max()"
   ]
  },
  {
   "cell_type": "markdown",
   "metadata": {},
   "source": [
    "**Checking and Cleaning Vehicle Counts**\n",
    "\n",
    "Currently vehicle counts by vehicle type are reported under columns representing distinct one hour time slots. We are trying to assess the overall breakdown of vehicles on NYC roads, so we can aggregate these columns and check the distribution of counts."
   ]
  },
  {
   "cell_type": "code",
   "execution_count": 58,
   "metadata": {},
   "outputs": [
    {
     "data": {
      "text/html": [
       "<div>\n",
       "<style scoped>\n",
       "    .dataframe tbody tr th:only-of-type {\n",
       "        vertical-align: middle;\n",
       "    }\n",
       "\n",
       "    .dataframe tbody tr th {\n",
       "        vertical-align: top;\n",
       "    }\n",
       "\n",
       "    .dataframe thead th {\n",
       "        text-align: right;\n",
       "    }\n",
       "</style>\n",
       "<table border=\"1\" class=\"dataframe\">\n",
       "  <thead>\n",
       "    <tr style=\"text-align: right;\">\n",
       "      <th></th>\n",
       "      <th>Stat Value</th>\n",
       "    </tr>\n",
       "  </thead>\n",
       "  <tbody>\n",
       "    <tr>\n",
       "      <th>count</th>\n",
       "      <td>8771.000000</td>\n",
       "    </tr>\n",
       "    <tr>\n",
       "      <th>min</th>\n",
       "      <td>0.000000</td>\n",
       "    </tr>\n",
       "    <tr>\n",
       "      <th>1%</th>\n",
       "      <td>0.000000</td>\n",
       "    </tr>\n",
       "    <tr>\n",
       "      <th>5%</th>\n",
       "      <td>0.000000</td>\n",
       "    </tr>\n",
       "    <tr>\n",
       "      <th>25%</th>\n",
       "      <td>14.000000</td>\n",
       "    </tr>\n",
       "    <tr>\n",
       "      <th>50%</th>\n",
       "      <td>85.000000</td>\n",
       "    </tr>\n",
       "    <tr>\n",
       "      <th>75%</th>\n",
       "      <td>414.500000</td>\n",
       "    </tr>\n",
       "    <tr>\n",
       "      <th>95%</th>\n",
       "      <td>5872.500000</td>\n",
       "    </tr>\n",
       "    <tr>\n",
       "      <th>99%</th>\n",
       "      <td>26020.800000</td>\n",
       "    </tr>\n",
       "    <tr>\n",
       "      <th>max</th>\n",
       "      <td>104974.000000</td>\n",
       "    </tr>\n",
       "    <tr>\n",
       "      <th>median</th>\n",
       "      <td>85.000000</td>\n",
       "    </tr>\n",
       "    <tr>\n",
       "      <th>mean</th>\n",
       "      <td>1346.978908</td>\n",
       "    </tr>\n",
       "    <tr>\n",
       "      <th>median absolute deviation</th>\n",
       "      <td>123.055800</td>\n",
       "    </tr>\n",
       "    <tr>\n",
       "      <th>standard deviation</th>\n",
       "      <td>5573.188238</td>\n",
       "    </tr>\n",
       "    <tr>\n",
       "      <th>skew</th>\n",
       "      <td>8.771372</td>\n",
       "    </tr>\n",
       "    <tr>\n",
       "      <th>kurtosis</th>\n",
       "      <td>97.191713</td>\n",
       "    </tr>\n",
       "  </tbody>\n",
       "</table>\n",
       "</div>"
      ],
      "text/plain": [
       "                               Stat Value\n",
       "count                         8771.000000\n",
       "min                              0.000000\n",
       "1%                               0.000000\n",
       "5%                               0.000000\n",
       "25%                             14.000000\n",
       "50%                             85.000000\n",
       "75%                            414.500000\n",
       "95%                           5872.500000\n",
       "99%                          26020.800000\n",
       "max                         104974.000000\n",
       "median                          85.000000\n",
       "mean                          1346.978908\n",
       "median absolute deviation      123.055800\n",
       "standard deviation            5573.188238\n",
       "skew                             8.771372\n",
       "kurtosis                        97.191713"
      ]
     },
     "execution_count": 58,
     "metadata": {},
     "output_type": "execute_result"
    }
   ],
   "source": [
    "counts = [\n",
    "    \"12:00-1:00 AM\",\n",
    "    \"1:00-2:00AM\",\n",
    "    \"2:00-3:00AM\",\n",
    "    \"3:00-4:00AM\",\n",
    "    \"4:00-5:00AM\",\n",
    "    \"5:00-6:00AM\",\n",
    "    \"6:00-7:00AM\",\n",
    "    \"7:00-8:00AM\",\n",
    "    \"8:00-9:00AM\",\n",
    "    \"9:00-10:00AM\",\n",
    "    \"10:00-11:00AM\",\n",
    "    \"11:00-12:00PM\",\n",
    "    \"12:00-1:00PM\",\n",
    "    \"1:00-2:00PM\",\n",
    "    \"2:00-3:00PM\",\n",
    "    \"3:00-4:00PM\",\n",
    "    \"4:00-5:00PM\",\n",
    "    \"5:00-6:00PM\",\n",
    "    \"6:00-7:00PM\",\n",
    "    \"7:00-8:00PM\",\n",
    "    \"8:00-9:00PM\",\n",
    "    \"9:00-10:00PM\",\n",
    "    \"10:00-11:00PM\",\n",
    "    \"11:00-12:00AM\",\n",
    "]\n",
    "\n",
    "vehicle_class[\"Vehicle Count\"] = vehicle_class[counts].sum(axis=1)\n",
    "distribution_stats(vehicle_class[\"Vehicle Count\"])"
   ]
  },
  {
   "cell_type": "markdown",
   "metadata": {},
   "source": [
    "**Checking vehicle counts for possibly erroneous outliers**\n",
    "\n",
    "Lets examine the max vehicle count to see if it is possibly an error. "
   ]
  },
  {
   "cell_type": "code",
   "execution_count": 59,
   "metadata": {},
   "outputs": [
    {
     "data": {
      "text/html": [
       "<div>\n",
       "<style scoped>\n",
       "    .dataframe tbody tr th:only-of-type {\n",
       "        vertical-align: middle;\n",
       "    }\n",
       "\n",
       "    .dataframe tbody tr th {\n",
       "        vertical-align: top;\n",
       "    }\n",
       "\n",
       "    .dataframe thead th {\n",
       "        text-align: right;\n",
       "    }\n",
       "</style>\n",
       "<table border=\"1\" class=\"dataframe\">\n",
       "  <thead>\n",
       "    <tr style=\"text-align: right;\">\n",
       "      <th></th>\n",
       "      <th>ID</th>\n",
       "      <th>SegmentID</th>\n",
       "      <th>Roadway Name</th>\n",
       "      <th>From</th>\n",
       "      <th>To</th>\n",
       "      <th>Direction</th>\n",
       "      <th>Date</th>\n",
       "      <th>Veh Class Type</th>\n",
       "      <th>12:00-1:00 AM</th>\n",
       "      <th>1:00-2:00AM</th>\n",
       "      <th>...</th>\n",
       "      <th>5:00-6:00PM</th>\n",
       "      <th>6:00-7:00PM</th>\n",
       "      <th>7:00-8:00PM</th>\n",
       "      <th>8:00-9:00PM</th>\n",
       "      <th>9:00-10:00PM</th>\n",
       "      <th>10:00-11:00PM</th>\n",
       "      <th>11:00-12:00AM</th>\n",
       "      <th>Location</th>\n",
       "      <th>datetime</th>\n",
       "      <th>Vehicle Count</th>\n",
       "    </tr>\n",
       "  </thead>\n",
       "  <tbody>\n",
       "    <tr>\n",
       "      <th>2957</th>\n",
       "      <td>108</td>\n",
       "      <td>9012331</td>\n",
       "      <td>Grand Central Parkway</td>\n",
       "      <td>90 Street</td>\n",
       "      <td>Ditmars Boulevard</td>\n",
       "      <td>WB</td>\n",
       "      <td>11/06/2014</td>\n",
       "      <td>Auto</td>\n",
       "      <td>1327.0</td>\n",
       "      <td>685.0</td>\n",
       "      <td>...</td>\n",
       "      <td>5175.0</td>\n",
       "      <td>5227.0</td>\n",
       "      <td>5104.0</td>\n",
       "      <td>4417.0</td>\n",
       "      <td>4220.0</td>\n",
       "      <td>3731.0</td>\n",
       "      <td>2714.0</td>\n",
       "      <td>Grand Central Parkway FROM 90 Street TO Ditmar...</td>\n",
       "      <td>2014-11-06</td>\n",
       "      <td>101469.0</td>\n",
       "    </tr>\n",
       "    <tr>\n",
       "      <th>2964</th>\n",
       "      <td>108</td>\n",
       "      <td>9012329</td>\n",
       "      <td>Grand Central Parkway</td>\n",
       "      <td>90 Street</td>\n",
       "      <td>Ditmars Boulevard</td>\n",
       "      <td>EB</td>\n",
       "      <td>11/06/2014</td>\n",
       "      <td>Auto</td>\n",
       "      <td>1662.0</td>\n",
       "      <td>936.0</td>\n",
       "      <td>...</td>\n",
       "      <td>8293.0</td>\n",
       "      <td>7798.0</td>\n",
       "      <td>6720.0</td>\n",
       "      <td>5979.0</td>\n",
       "      <td>5144.0</td>\n",
       "      <td>4436.0</td>\n",
       "      <td>2998.0</td>\n",
       "      <td>Grand Central Parkway FROM 90 Street TO Ditmar...</td>\n",
       "      <td>2014-11-06</td>\n",
       "      <td>104974.0</td>\n",
       "    </tr>\n",
       "  </tbody>\n",
       "</table>\n",
       "<p>2 rows × 35 columns</p>\n",
       "</div>"
      ],
      "text/plain": [
       "       ID  SegmentID           Roadway Name       From                 To Direction        Date Veh Class Type  \\\n",
       "2957  108    9012331  Grand Central Parkway  90 Street  Ditmars Boulevard        WB  11/06/2014           Auto   \n",
       "2964  108    9012329  Grand Central Parkway  90 Street  Ditmars Boulevard        EB  11/06/2014           Auto   \n",
       "\n",
       "      12:00-1:00 AM  1:00-2:00AM  ...  5:00-6:00PM  6:00-7:00PM  7:00-8:00PM  8:00-9:00PM  9:00-10:00PM  \\\n",
       "2957         1327.0        685.0  ...       5175.0       5227.0       5104.0       4417.0        4220.0   \n",
       "2964         1662.0        936.0  ...       8293.0       7798.0       6720.0       5979.0        5144.0   \n",
       "\n",
       "      10:00-11:00PM  11:00-12:00AM                                           Location   datetime  Vehicle Count  \n",
       "2957         3731.0         2714.0  Grand Central Parkway FROM 90 Street TO Ditmar... 2014-11-06       101469.0  \n",
       "2964         4436.0         2998.0  Grand Central Parkway FROM 90 Street TO Ditmar... 2014-11-06       104974.0  \n",
       "\n",
       "[2 rows x 35 columns]"
      ]
     },
     "execution_count": 59,
     "metadata": {},
     "output_type": "execute_result"
    }
   ],
   "source": [
    "vehicle_class[vehicle_class['Vehicle Count'] == 104974]\n",
    "\n",
    "vehicle_class[\n",
    "    (\n",
    "        vehicle_class[\"Location\"]\n",
    "        == \"Grand Central Parkway FROM 90 Street TO Ditmars Boulevard\"\n",
    "    )\n",
    "    & (vehicle_class[\"Veh Class Type\"] == \"Auto\")\n",
    "]\n"
   ]
  },
  {
   "cell_type": "markdown",
   "metadata": {},
   "source": [
    "The Grand Central Parkway is a heavily-trafficed major highway. The 90th and Ditmars location puts it right in front of LaGuardia Airport. Given multiple lanes (3-4), up to 10000 vehicles an hour per direction is reasonable and not likely a data entry error. "
   ]
  },
  {
   "cell_type": "markdown",
   "metadata": {},
   "source": [
    "**Calculating breakdown of NYC traffic by vehicle class**"
   ]
  },
  {
   "cell_type": "code",
   "execution_count": 60,
   "metadata": {
    "scrolled": true
   },
   "outputs": [
    {
     "data": {
      "text/plain": [
       "Veh Class Type\n",
       "Auto            9295519.0\n",
       "Commercial       594099.0\n",
       "Heavy Truck      127167.0\n",
       "Medium Truck     306993.0\n",
       "Other Bus        141026.0\n",
       "School Bus        97111.0\n",
       "Taxis           1252437.0\n",
       "Name: Vehicle Count, dtype: float64"
      ]
     },
     "execution_count": 60,
     "metadata": {},
     "output_type": "execute_result"
    }
   ],
   "source": [
    "counts_by_class = (\n",
    "    vehicle_class[\"Vehicle Count\"].groupby(vehicle_class[\"Veh Class Type\"]).sum()\n",
    ")\n",
    "counts_by_class"
   ]
  },
  {
   "cell_type": "markdown",
   "metadata": {},
   "source": [
    "**Total vehicles counted = 11,814,352**"
   ]
  },
  {
   "cell_type": "code",
   "execution_count": 61,
   "metadata": {
    "scrolled": true
   },
   "outputs": [
    {
     "data": {
      "text/plain": [
       "11814352.0"
      ]
     },
     "execution_count": 61,
     "metadata": {},
     "output_type": "execute_result"
    }
   ],
   "source": [
    "counts_by_class.sum()"
   ]
  },
  {
   "cell_type": "markdown",
   "metadata": {},
   "source": [
    "**Table View of Vehicles by Class**"
   ]
  },
  {
   "cell_type": "code",
   "execution_count": 62,
   "metadata": {
    "scrolled": false
   },
   "outputs": [
    {
     "data": {
      "text/plain": [
       "Veh Class Type\n",
       "Auto            78.68%\n",
       "Taxis           10.60%\n",
       "Commercial       5.03%\n",
       "Medium Truck     2.60%\n",
       "Other Bus        1.19%\n",
       "Heavy Truck      1.08%\n",
       "School Bus       0.82%\n",
       "dtype: object"
      ]
     },
     "execution_count": 62,
     "metadata": {},
     "output_type": "execute_result"
    }
   ],
   "source": [
    "count_percentage = (counts_by_class * 100) / vehicle_class[\"Vehicle Count\"].sum()\n",
    "count_percentage.index = counts_by_class.index\n",
    "count_percentage.sort_values(ascending=False, inplace=True)\n",
    "type_percentage = pd.Series(\n",
    "    [\"{0:.2f}%\".format(x) for x in count_percentage], index=count_percentage.index\n",
    ")\n",
    "\n",
    "type_percentage"
   ]
  },
  {
   "cell_type": "markdown",
   "metadata": {},
   "source": [
    "**A bar chart reinforces the predominance of passensger cars**"
   ]
  },
  {
   "cell_type": "code",
   "execution_count": 63,
   "metadata": {},
   "outputs": [
    {
     "data": {
      "image/png": "[encoded data removed]",
      "text/plain": [
       "<Figure size 432x288 with 1 Axes>"
      ]
     },
     "metadata": {
      "needs_background": "light"
     },
     "output_type": "display_data"
    }
   ],
   "source": [
    "fig, ax = plt.subplots()\n",
    "veh_classes = count_percentage.index\n",
    "y_pos = range(len(veh_classes))\n",
    "percentage = count_percentage.values\n",
    "ax.barh(y_pos, percentage, align='center')\n",
    "ax.set_yticks(y_pos)\n",
    "ax.set_yticklabels(veh_classes)\n",
    "ax.invert_yaxis()\n",
    "ax.set_xlabel('Percentage')\n",
    "ax.set_title('Vehicles Observed by Class')\n",
    "plt.show()"
   ]
  },
  {
   "cell_type": "markdown",
   "metadata": {},
   "source": [
    "## Conclusion\n",
    "\n",
    "The DOT dataset on vehicle class contains 1253 sets of observations over three and a half years and counted 11.8 million vehicles in all five bouroughs. The data represents different types of roadways (highway, bridge, local roads, etc.) **Since the data represent vehicles actively driving, the counts are a reasonable estimate of the how much each vehicle class contributes to total miles driven in NYC**. The data shows that:\n",
    "- Autos represent ~80% of vehicular traffic\n",
    "- Taxis (which may not include rideshares) represent ~10% of traffic\n",
    "- Other heavier vehicles represent ~10% of traffic\n",
    "\n",
    "**An appropriate measure of traffic levels should reflect the above breakdown and not over-index on one source of information like Taxi and Limousine Commission (TLC) trips datasets.** "
   ]
  }
 ],
 "metadata": {
  "kernelspec": {
   "display_name": "Python 3",
   "language": "python",
   "name": "python3"
  },
  "language_info": {
   "codemirror_mode": {
    "name": "ipython",
    "version": 3
   },
   "file_extension": ".py",
   "mimetype": "text/x-python",
   "name": "python",
   "nbconvert_exporter": "python",
   "pygments_lexer": "ipython3",
   "version": "3.7.7"
  }
 },
 "nbformat": 4,
 "nbformat_minor": 4
}
